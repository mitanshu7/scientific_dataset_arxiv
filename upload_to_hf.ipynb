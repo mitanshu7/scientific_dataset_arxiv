{
 "cells": [
  {
   "cell_type": "code",
   "execution_count": 1,
   "metadata": {},
   "outputs": [
    {
     "name": "stderr",
     "output_type": "stream",
     "text": [
      "/home/mitanshu/mambaforge/envs/arxiv/lib/python3.12/site-packages/tqdm/auto.py:21: TqdmWarning: IProgress not found. Please update jupyter and ipywidgets. See https://ipywidgets.readthedocs.io/en/stable/user_install.html\n",
      "  from .autonotebook import tqdm as notebook_tqdm\n"
     ]
    }
   ],
   "source": [
    "from huggingface_hub import HfApi\n",
    "import os"
   ]
  },
  {
   "cell_type": "code",
   "execution_count": 5,
   "metadata": {},
   "outputs": [
    {
     "data": {
      "text/plain": [
       "{'type': 'user',\n",
       " 'id': '65718d89be49685dca25f404',\n",
       " 'name': 'bluuebunny',\n",
       " 'fullname': 'Mitanshu',\n",
       " 'email': 'mitanshu@alumni.iitm.ac.in',\n",
       " 'emailVerified': True,\n",
       " 'canPay': False,\n",
       " 'periodEnd': None,\n",
       " 'isPro': False,\n",
       " 'avatarUrl': '/avatars/4a5be742801199fbcb99512210b89c4c.svg',\n",
       " 'orgs': [],\n",
       " 'auth': {'type': 'access_token',\n",
       "  'accessToken': {'displayName': 'arxiv', 'role': 'write'}}}"
      ]
     },
     "execution_count": 5,
     "metadata": {},
     "output_type": "execute_result"
    }
   ],
   "source": [
    "## Setup the Hugging Face API\n",
    "access_token =  os.environ.get(\"HUGGINGFACE_TOKEN\")\n",
    "api = HfApi(token=access_token)\n",
    "\n",
    "## Verify the API\n",
    "user = api.whoami()\n",
    "user"
   ]
  },
  {
   "cell_type": "code",
   "execution_count": 6,
   "metadata": {},
   "outputs": [
    {
     "name": "stderr",
     "output_type": "stream",
     "text": [
      "unprocessed_txts_2007_to_2013.7z: 100%|██████████| 9.44G/9.44G [06:14<00:00, 25.2MB/s]  \n"
     ]
    },
    {
     "data": {
      "text/plain": [
       "CommitInfo(commit_url='https://huggingface.co/datasets/bluuebunny/dump/commit/981e89f72f40980025e73c6a01ceab1c4bc2cc55', commit_message='Upload data with huggingface_hub', commit_description='', oid='981e89f72f40980025e73c6a01ceab1c4bc2cc55', pr_url=None, pr_revision=None, pr_num=None)"
      ]
     },
     "execution_count": 6,
     "metadata": {},
     "output_type": "execute_result"
    }
   ],
   "source": [
    "## Use api to upload files to my dataset\n",
    "\n",
    "repo_id = \"bluuebunny/dump\"  # Replace with your details\n",
    "subfolder = \"data\"  # Optional subfolder within the repository\n",
    "filename = \"unprocessed_txts_2007_to_2013.7z\"  # Filename to be uploaded\n",
    "\n",
    "api.upload_file(\n",
    "\n",
    "    path_or_fileobj=filename,\n",
    "\n",
    "    path_in_repo=subfolder,\n",
    "\n",
    "    repo_id=repo_id,\n",
    "\n",
    "    repo_type=\"dataset\",\n",
    "\n",
    ")"
   ]
  }
 ],
 "metadata": {
  "kernelspec": {
   "display_name": "arxiv",
   "language": "python",
   "name": "python3"
  },
  "language_info": {
   "codemirror_mode": {
    "name": "ipython",
    "version": 3
   },
   "file_extension": ".py",
   "mimetype": "text/x-python",
   "name": "python",
   "nbconvert_exporter": "python",
   "pygments_lexer": "ipython3",
   "version": "3.12.2"
  }
 },
 "nbformat": 4,
 "nbformat_minor": 2
}
