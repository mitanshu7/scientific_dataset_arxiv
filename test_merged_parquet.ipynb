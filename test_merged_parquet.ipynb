{
 "cells": [
  {
   "cell_type": "code",
   "execution_count": 15,
   "metadata": {},
   "outputs": [],
   "source": [
    "import pandas as pd\n",
    "from scientific_dataset_arxiv.config import start_year, end_year, max_pdfs_per_month"
   ]
  },
  {
   "cell_type": "code",
   "execution_count": 8,
   "metadata": {},
   "outputs": [
    {
     "name": "stdout",
     "output_type": "stream",
     "text": [
      "Start year: 2019\n",
      "End year: 2020\n",
      "Max PDFs per month: 2\n"
     ]
    }
   ],
   "source": [
    "print('Start year:', start_year) \n",
    "print('End year:', end_year)\n",
    "print('Max PDFs per month:', max_pdfs_per_month)"
   ]
  },
  {
   "cell_type": "code",
   "execution_count": 2,
   "metadata": {},
   "outputs": [
    {
     "data": {
      "text/html": [
       "<div>\n",
       "<style scoped>\n",
       "    .dataframe tbody tr th:only-of-type {\n",
       "        vertical-align: middle;\n",
       "    }\n",
       "\n",
       "    .dataframe tbody tr th {\n",
       "        vertical-align: top;\n",
       "    }\n",
       "\n",
       "    .dataframe thead th {\n",
       "        text-align: right;\n",
       "    }\n",
       "</style>\n",
       "<table border=\"1\" class=\"dataframe\">\n",
       "  <thead>\n",
       "    <tr style=\"text-align: right;\">\n",
       "      <th></th>\n",
       "      <th>id</th>\n",
       "      <th>title</th>\n",
       "      <th>abstract</th>\n",
       "      <th>article</th>\n",
       "    </tr>\n",
       "  </thead>\n",
       "  <tbody>\n",
       "    <tr>\n",
       "      <th>0</th>\n",
       "      <td>1901.00001</td>\n",
       "      <td>impact of ground truth annotation quality on p...</td>\n",
       "      <td>preparation of high-quality datasets for the...</td>\n",
       "      <td>introduction \\nthe current tendency in semanti...</td>\n",
       "    </tr>\n",
       "    <tr>\n",
       "      <th>1</th>\n",
       "      <td>1901.00002</td>\n",
       "      <td>black holes in the turbulent phase of viscous ...</td>\n",
       "      <td>we study the phantom fluid in the late unive...</td>\n",
       "      <td>introduction\\nthe observable universe is in th...</td>\n",
       "    </tr>\n",
       "    <tr>\n",
       "      <th>2</th>\n",
       "      <td>1902.00001</td>\n",
       "      <td>hot exoplanet atmospheres resolved with transi...</td>\n",
       "      <td>high-resolution optical spectroscopy is a po...</td>\n",
       "      <td>introduction\\nthe field of exoplanetary resear...</td>\n",
       "    </tr>\n",
       "    <tr>\n",
       "      <th>3</th>\n",
       "      <td>1902.00002</td>\n",
       "      <td>uncertainty quantification in molecular signal...</td>\n",
       "      <td>molecular signals are abundant in engineerin...</td>\n",
       "      <td>introduction\\nmolecular signals are abundant i...</td>\n",
       "    </tr>\n",
       "    <tr>\n",
       "      <th>4</th>\n",
       "      <td>1903.00001</td>\n",
       "      <td>a deep dual-path network for improved mammogra...</td>\n",
       "      <td>we present, for the first time, a novel deep...</td>\n",
       "      <td>introduction\\naccording to the international a...</td>\n",
       "    </tr>\n",
       "  </tbody>\n",
       "</table>\n",
       "</div>"
      ],
      "text/plain": [
       "           id                                              title  \\\n",
       "0  1901.00001  impact of ground truth annotation quality on p...   \n",
       "1  1901.00002  black holes in the turbulent phase of viscous ...   \n",
       "2  1902.00001  hot exoplanet atmospheres resolved with transi...   \n",
       "3  1902.00002  uncertainty quantification in molecular signal...   \n",
       "4  1903.00001  a deep dual-path network for improved mammogra...   \n",
       "\n",
       "                                            abstract  \\\n",
       "0    preparation of high-quality datasets for the...   \n",
       "1    we study the phantom fluid in the late unive...   \n",
       "2    high-resolution optical spectroscopy is a po...   \n",
       "3    molecular signals are abundant in engineerin...   \n",
       "4    we present, for the first time, a novel deep...   \n",
       "\n",
       "                                             article  \n",
       "0  introduction \\nthe current tendency in semanti...  \n",
       "1  introduction\\nthe observable universe is in th...  \n",
       "2  introduction\\nthe field of exoplanetary resear...  \n",
       "3  introduction\\nmolecular signals are abundant i...  \n",
       "4  introduction\\naccording to the international a...  "
      ]
     },
     "execution_count": 2,
     "metadata": {},
     "output_type": "execute_result"
    }
   ],
   "source": [
    "## Load the merged articles\n",
    "df = pd.read_parquet(rf'arxiv_dataset_{start_year}_to_{end_year}\\merged_articles.parquet')\n",
    "## Print the first 5 rows\n",
    "df.head()"
   ]
  },
  {
   "cell_type": "code",
   "execution_count": 3,
   "metadata": {},
   "outputs": [
    {
     "data": {
      "text/html": [
       "<div>\n",
       "<style scoped>\n",
       "    .dataframe tbody tr th:only-of-type {\n",
       "        vertical-align: middle;\n",
       "    }\n",
       "\n",
       "    .dataframe tbody tr th {\n",
       "        vertical-align: top;\n",
       "    }\n",
       "\n",
       "    .dataframe thead th {\n",
       "        text-align: right;\n",
       "    }\n",
       "</style>\n",
       "<table border=\"1\" class=\"dataframe\">\n",
       "  <thead>\n",
       "    <tr style=\"text-align: right;\">\n",
       "      <th></th>\n",
       "      <th>id</th>\n",
       "      <th>title</th>\n",
       "      <th>abstract</th>\n",
       "      <th>article</th>\n",
       "    </tr>\n",
       "  </thead>\n",
       "  <tbody>\n",
       "    <tr>\n",
       "      <th>29</th>\n",
       "      <td>2010.00002</td>\n",
       "      <td>chemically homogeneous evolution: a rapid popu...</td>\n",
       "      <td>we explore chemically homogeneous evolution ...</td>\n",
       "      <td>introduction\\non september 14th, 2015 the firs...</td>\n",
       "    </tr>\n",
       "    <tr>\n",
       "      <th>30</th>\n",
       "      <td>2011.00001</td>\n",
       "      <td>distance problems within helly graphs and $k$-...</td>\n",
       "      <td>the ball hypergraph of a graph $g$ is the fa...</td>\n",
       "      <td>introduction\\nfor any undefined graph terminol...</td>\n",
       "    </tr>\n",
       "    <tr>\n",
       "      <th>31</th>\n",
       "      <td>2011.00002</td>\n",
       "      <td>molecular communications in viral infections r...</td>\n",
       "      <td>hundreds of millions of people worldwide are...</td>\n",
       "      <td>introduction\\nthe covid-19 pandemic shocked th...</td>\n",
       "    </tr>\n",
       "    <tr>\n",
       "      <th>32</th>\n",
       "      <td>2012.00001</td>\n",
       "      <td>utilizing stability criteria in choosing featu...</td>\n",
       "      <td>feature selection is indispensable in microb...</td>\n",
       "      <td>introduction\\nfeature selection is indispensab...</td>\n",
       "    </tr>\n",
       "    <tr>\n",
       "      <th>33</th>\n",
       "      <td>2012.00002</td>\n",
       "      <td>phase transition between flat space cosmology ...</td>\n",
       "      <td>flat space cosmology (fsc) spacetimes are ex...</td>\n",
       "      <td>introduction\\ngeneral relativity (gr) in (2+1)...</td>\n",
       "    </tr>\n",
       "  </tbody>\n",
       "</table>\n",
       "</div>"
      ],
      "text/plain": [
       "            id                                              title  \\\n",
       "29  2010.00002  chemically homogeneous evolution: a rapid popu...   \n",
       "30  2011.00001  distance problems within helly graphs and $k$-...   \n",
       "31  2011.00002  molecular communications in viral infections r...   \n",
       "32  2012.00001  utilizing stability criteria in choosing featu...   \n",
       "33  2012.00002  phase transition between flat space cosmology ...   \n",
       "\n",
       "                                             abstract  \\\n",
       "29    we explore chemically homogeneous evolution ...   \n",
       "30    the ball hypergraph of a graph $g$ is the fa...   \n",
       "31    hundreds of millions of people worldwide are...   \n",
       "32    feature selection is indispensable in microb...   \n",
       "33    flat space cosmology (fsc) spacetimes are ex...   \n",
       "\n",
       "                                              article  \n",
       "29  introduction\\non september 14th, 2015 the firs...  \n",
       "30  introduction\\nfor any undefined graph terminol...  \n",
       "31  introduction\\nthe covid-19 pandemic shocked th...  \n",
       "32  introduction\\nfeature selection is indispensab...  \n",
       "33  introduction\\ngeneral relativity (gr) in (2+1)...  "
      ]
     },
     "execution_count": 3,
     "metadata": {},
     "output_type": "execute_result"
    }
   ],
   "source": [
    "## Print the last 5 rows\n",
    "df.tail()"
   ]
  },
  {
   "cell_type": "code",
   "execution_count": 9,
   "metadata": {},
   "outputs": [
    {
     "name": "stdout",
     "output_type": "stream",
     "text": [
      "<class 'pandas.core.frame.DataFrame'>\n",
      "RangeIndex: 34 entries, 0 to 33\n",
      "Data columns (total 4 columns):\n",
      " #   Column    Non-Null Count  Dtype \n",
      "---  ------    --------------  ----- \n",
      " 0   id        34 non-null     object\n",
      " 1   title     34 non-null     object\n",
      " 2   abstract  34 non-null     object\n",
      " 3   article   34 non-null     object\n",
      "dtypes: object(4)\n",
      "memory usage: 1.2+ KB\n"
     ]
    }
   ],
   "source": [
    "## Print information about the dataframe\n",
    "df.info()"
   ]
  }
 ],
 "metadata": {
  "kernelspec": {
   "display_name": "arxiv",
   "language": "python",
   "name": "python3"
  },
  "language_info": {
   "codemirror_mode": {
    "name": "ipython",
    "version": 3
   },
   "file_extension": ".py",
   "mimetype": "text/x-python",
   "name": "python",
   "nbconvert_exporter": "python",
   "pygments_lexer": "ipython3",
   "version": "3.12.2"
  }
 },
 "nbformat": 4,
 "nbformat_minor": 2
}
